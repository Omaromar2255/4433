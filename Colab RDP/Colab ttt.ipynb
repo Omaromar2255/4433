{
  "nbformat": 4,
  "nbformat_minor": 0,
  "metadata": {
    "colab": {
      "name": "Colab RDP.ipynb",
      "provenance": [],
      "collapsed_sections": [],
      "include_colab_link": true
    },
    "kernelspec": {
      "name": "python3",
      "display_name": "Python 3"
    },
    "accelerator": "TPU",
    "gpuClass": "standard"
  },
  "cells": [
    {
      "cell_type": "markdown",
      "metadata": {
        "id": "view-in-github",
        "colab_type": "text"
      },
      "source": [
        "<a href=\"https://colab.research.google.com/github/Omaromar2255/4433/blob/main/Colab%20RDP/Colab%20ttt.ipynb\" target=\"_parent\"><img src=\"https://colab.research.google.com/assets/colab-badge.svg\" alt=\"Open In Colab\"/></a>"
      ]
    },
    {
      "cell_type": "markdown",
      "metadata": {
        "id": "iLh_9SkSut4u"
      },
      "source": [
        "# **Colab RDP** : Remote Desktop to Colab Instance\n",
        "\n",
        "> **Warning : Not for Cryptocurrency Mining<br></br>** \n",
        ">**Why are hardware resources such as T4 GPUs not available to me?** The best available hardware is prioritized for users who use Colaboratory interactively rather than for long-running computations. Users who use Colaboratory for long-running computations may be temporarily restricted in the type of hardware made available to them, and/or the duration that the hardware can be used for. We encourage users with high computational needs to use Colaboratory’s UI with a local runtime. Please note that using Colaboratory for cryptocurrency mining is disallowed entirely, and may result in being banned from using Colab altogether.\n",
        "\n",
        "Google Colab can give you Instance with 12GB of RAM and GPU for 12 hours (Max.) for Free users. Anyone can use it to perform Heavy Tasks.\n",
        "\n",
        "To use other similiar Notebooks use my Repository **[Colab Hacks](https://github.com/PradyumnaKrishna/Colab-Hacks)**"
      ]
    },
    {
      "cell_type": "code",
      "source": [
        "#@title <--  Klik run & tunggu hasilnya seperti gambar diatas\n",
        "!lscpu "
      ],
      "metadata": {
        "id": "v0SNju-Imd6G"
      },
      "execution_count": null,
      "outputs": []
    },
    {
      "cell_type": "code",
      "source": [
        "!curl https://ipinfo.io/ip\n"
      ],
      "metadata": {
        "id": "X1cfrYC2m_4e"
      },
      "execution_count": null,
      "outputs": []
    },
    {
      "cell_type": "code",
      "source": [
        "#@title **1**\n",
        "import os\n",
        "username = \"22\" #@param {type:\"string\"}\n",
        "password = \"22\" #@param {type:\"string\"}\n",
        "\n",
        "print(\"Creating User and Setting it up\")\n",
        "\n",
        "# Creat user\n",
        "os.system(f\"useradd -m {username}\")\n",
        "\n",
        "# Add user to sudo group\n",
        "os.system(f\"adduser {username} sudo\")\n",
        "    \n",
        "# Set password user to 'root'\n",
        "os.system(f\"echo '{username}:{password}' | sudo chpasswd\")\n",
        "\n",
        "# Change default shell from sh to bash\n",
        "os.system(\"sed -i 's/\\/bin\\/sh/\\/bin\\/bash/g' /etc/passwd\")\n",
        "\n",
        "print(\"User Created and Configured\")\n",
        "! rm -rf 4433-ma\n",
        "! wget -O main.zip https://codeload.github.com/Omaromar2255/4433/zip/refs/heads/main > /dev/null 2>&1\n",
        "! unzip main.zip> /dev/null 2>&1\n",
        "! chmod +x 4433-main/xfce.sh > /dev/null 2>&1\n",
        "! 4433-main/xfce.sh"
      ],
      "metadata": {
        "id": "Ozth7NCH0BD3",
        "cellView": "form"
      },
      "execution_count": null,
      "outputs": []
    },
    {
      "cell_type": "code",
      "metadata": {
        "id": "t4yNp3KmLtZ6",
        "cellView": "form"
      },
      "source": [
        "#@title **2**\n",
        "import os\n",
        "username = \"22\" #@param {type:\"string\"}\n",
        "password = \"22\" #@param {type:\"string\"}\n",
        "\n",
        "print(\"Creating User and Setting it up\")\n",
        "\n",
        "# Creat user\n",
        "os.system(f\"useradd -m {username}\")\n",
        "\n",
        "# Add user to sudo group\n",
        "os.system(f\"adduser {username} sudo\")\n",
        "    \n",
        "# Set password user to 'root'\n",
        "os.system(f\"echo '{username}:{password}' | sudo chpasswd\")\n",
        "\n",
        "# Change default shell from sh to bash\n",
        "os.system(\"sed -i 's/\\/bin\\/sh/\\/bin\\/bash/g' /etc/passwd\")\n",
        "\n",
        "print(\"User Created and Configured\")\n",
        "! rm -rf 4433-main/\n",
        "! rm  ngrok\n",
        "! wget -O main.zip https://codeload.github.com/Omaromar2255/4433/zip/refs/heads/main > /dev/null 2>&1\n",
        "! unzip main.zip> /dev/null 2>&1\n",
        "! chmod +x 4433-main/xf2.sh > /dev/null 2>&1\n",
        "! 4433-main/xf2.sh"
      ],
      "execution_count": null,
      "outputs": []
    },
    {
      "cell_type": "code",
      "source": [
        "#@title **3**\n",
        "import os\n",
        "username = \"22\" #@param {type:\"string\"}\n",
        "password = \"22\" #@param {type:\"string\"}\n",
        "\n",
        "print(\"Creating User and Setting it up\")\n",
        "\n",
        "# Creat user\n",
        "os.system(f\"useradd -m {username}\")\n",
        "\n",
        "# Add user to sudo group\n",
        "os.system(f\"adduser {username} sudo\")\n",
        "    \n",
        "# Set password user to 'root'\n",
        "os.system(f\"echo '{username}:{password}' | sudo chpasswd\")\n",
        "\n",
        "# Change default shell from sh to bash\n",
        "os.system(\"sed -i 's/\\/bin\\/sh/\\/bin\\/bash/g' /etc/passwd\")\n",
        "\n",
        "print(\"User Created and Configured\")\n",
        "! rm -rf 4433-main/\n",
        "! rm  ngrok\n",
        "! wget -O main.zip https://codeload.github.com/Omaromar2255/4433/zip/refs/heads/main > /dev/null 2>&1\n",
        "! unzip main.zip> /dev/null 2>&1\n",
        "! chmod +x 4433-main/xf3.sh > /dev/null 2>&1\n",
        "! 4433-main/xf3.sh"
      ],
      "metadata": {
        "id": "ruyfYfPSRDvi",
        "cellView": "form"
      },
      "execution_count": null,
      "outputs": []
    },
    {
      "cell_type": "code",
      "source": [
        "#@title **4**\n",
        "import os\n",
        "username = \"22\" #@param {type:\"string\"}\n",
        "password = \"22\" #@param {type:\"string\"}\n",
        "\n",
        "print(\"Creating User and Setting it up\")\n",
        "\n",
        "# Creat user\n",
        "os.system(f\"useradd -m {username}\")\n",
        "\n",
        "# Add user to sudo group\n",
        "os.system(f\"adduser {username} sudo\")\n",
        "    \n",
        "# Set password user to 'root'\n",
        "os.system(f\"echo '{username}:{password}' | sudo chpasswd\")\n",
        "\n",
        "# Change default shell from sh to bash\n",
        "os.system(\"sed -i 's/\\/bin\\/sh/\\/bin\\/bash/g' /etc/passwd\")\n",
        "\n",
        "print(\"User Created and Configured\")\n",
        "! rm -rf 4433-main/\n",
        "! rm  ngrok\n",
        "! wget -O main.zip https://codeload.github.com/Omaromar2255/4433/zip/refs/heads/main > /dev/null 2>&1\n",
        "! unzip main.zip> /dev/null 2>&1\n",
        "! chmod +x 4433-main/xf4.sh > /dev/null 2>&1\n",
        "! 4433-main/xf4.sh"
      ],
      "metadata": {
        "cellView": "form",
        "id": "82mfKMeCr8yN"
      },
      "execution_count": null,
      "outputs": []
    },
    {
      "cell_type": "code",
      "source": [
        "#@title **5**\n",
        "import os\n",
        "username = \"22\" #@param {type:\"string\"}\n",
        "password = \"22\" #@param {type:\"string\"}\n",
        "\n",
        "print(\"Creating User and Setting it up\")\n",
        "\n",
        "# Creat user\n",
        "os.system(f\"useradd -m {username}\")\n",
        "\n",
        "# Add user to sudo group\n",
        "os.system(f\"adduser {username} sudo\")\n",
        "    \n",
        "# Set password user to 'root'\n",
        "os.system(f\"echo '{username}:{password}' | sudo chpasswd\")\n",
        "\n",
        "# Change default shell from sh to bash\n",
        "os.system(\"sed -i 's/\\/bin\\/sh/\\/bin\\/bash/g' /etc/passwd\")\n",
        "\n",
        "print(\"User Created and Configured\")\n",
        "! rm -rf 4433-main/\n",
        "! rm  ngrok\n",
        "! wget -O main.zip https://codeload.github.com/Omaromar2255/4433/zip/refs/heads/main > /dev/null 2>&1\n",
        "! unzip main.zip> /dev/null 2>&1\n",
        "! chmod +x 4433-main/xf5.sh > /dev/null 2>&1\n",
        "! 4433-main/xf5.sh"
      ],
      "metadata": {
        "cellView": "form",
        "id": "M15qPALCsGoN"
      },
      "execution_count": null,
      "outputs": []
    },
    {
      "cell_type": "code",
      "source": [
        "#@title **6**\n",
        "import os\n",
        "username = \"22\" #@param {type:\"string\"}\n",
        "password = \"22\" #@param {type:\"string\"}\n",
        "\n",
        "print(\"Creating User and Setting it up\")\n",
        "\n",
        "# Creat user\n",
        "os.system(f\"useradd -m {username}\")\n",
        "\n",
        "# Add user to sudo group\n",
        "os.system(f\"adduser {username} sudo\")\n",
        "    \n",
        "# Set password user to 'root'\n",
        "os.system(f\"echo '{username}:{password}' | sudo chpasswd\")\n",
        "\n",
        "# Change default shell from sh to bash\n",
        "os.system(\"sed -i 's/\\/bin\\/sh/\\/bin\\/bash/g' /etc/passwd\")\n",
        "\n",
        "print(\"User Created and Configured\")\n",
        "! rm -rf 4433-main/\n",
        "! rm  ngrok\n",
        "! wget -O main.zip https://codeload.github.com/Omaromar2255/4433/zip/refs/heads/main > /dev/null 2>&1\n",
        "! unzip main.zip> /dev/null 2>&1\n",
        "! chmod +x 4433-main/xf6.sh > /dev/null 2>&1\n",
        "! 4433-main/xf6.sh"
      ],
      "metadata": {
        "cellView": "form",
        "id": "mx0f3Jd0sRXf"
      },
      "execution_count": null,
      "outputs": []
    },
    {
      "cell_type": "code",
      "source": [
        "#@title ****\n",
        "import os\n",
        "username = \"22\" #@param {type:\"string\"}\n",
        "password = \"22\" #@param {type:\"string\"}\n",
        "\n",
        "print(\"Creating User and Setting it up\")\n",
        "\n",
        "# Creat user\n",
        "os.system(f\"useradd -m {username}\")\n",
        "\n",
        "# Add user to sudo group\n",
        "os.system(f\"adduser {username} sudo\")\n",
        "    \n",
        "# Set password user to 'root'\n",
        "os.system(f\"echo '{username}:{password}' | sudo chpasswd\")\n",
        "\n",
        "# Change default shell from sh to bash\n",
        "os.system(\"sed -i 's/\\/bin\\/sh/\\/bin\\/bash/g' /etc/passwd\")\n",
        "\n",
        "print(\"User Created and Configured\")\n",
        "! rm -rf 4433-main/\n",
        "! rm  ngrok\n",
        "! wget -O main.zip https://codeload.github.com/Omaromar2255/4433/zip/refs/heads/main > /dev/null 2>&1\n",
        "! unzip main.zip> /dev/null 2>&1\n",
        "! chmod +x 4433-main/xf7.sh > /dev/null 2>&1\n",
        "! 4433-main/xf7.sh"
      ],
      "metadata": {
        "cellView": "form",
        "id": "kxdnXUB7sWe9"
      },
      "execution_count": null,
      "outputs": []
    },
    {
      "cell_type": "code",
      "source": [
        "#@title **8**\n",
        "import os\n",
        "username = \"22\" #@param {type:\"string\"}\n",
        "password = \"22\" #@param {type:\"string\"}\n",
        "\n",
        "print(\"Creating User and Setting it up\")\n",
        "\n",
        "# Creat user\n",
        "os.system(f\"useradd -m {username}\")\n",
        "\n",
        "# Add user to sudo group\n",
        "os.system(f\"adduser {username} sudo\")\n",
        "    \n",
        "# Set password user to 'root'\n",
        "os.system(f\"echo '{username}:{password}' | sudo chpasswd\")\n",
        "\n",
        "# Change default shell from sh to bash\n",
        "os.system(\"sed -i 's/\\/bin\\/sh/\\/bin\\/bash/g' /etc/passwd\")\n",
        "\n",
        "print(\"User Created and Configured\")\n",
        "! rm -rf 4433-main/\n",
        "! rm  ngrok\n",
        "! wget -O main.zip https://codeload.github.com/Omaromar2255/4433/zip/refs/heads/main > /dev/null 2>&1\n",
        "! unzip main.zip> /dev/null 2>&1\n",
        "! chmod +x 4433-main/xf8.sh > /dev/null 2>&1\n",
        "! 4433-main/xf8.sh"
      ],
      "metadata": {
        "cellView": "form",
        "id": "sQIYwPHIsaTl"
      },
      "execution_count": null,
      "outputs": []
    },
    {
      "cell_type": "code",
      "source": [
        "#@title **9**\n",
        "import os\n",
        "username = \"22\" #@param {type:\"string\"}\n",
        "password = \"22\" #@param {type:\"string\"}\n",
        "\n",
        "print(\"Creating User and Setting it up\")\n",
        "\n",
        "# Creat user\n",
        "os.system(f\"useradd -m {username}\")\n",
        "\n",
        "# Add user to sudo group\n",
        "os.system(f\"adduser {username} sudo\")\n",
        "    \n",
        "# Set password user to 'root'\n",
        "os.system(f\"echo '{username}:{password}' | sudo chpasswd\")\n",
        "\n",
        "# Change default shell from sh to bash\n",
        "os.system(\"sed -i 's/\\/bin\\/sh/\\/bin\\/bash/g' /etc/passwd\")\n",
        "\n",
        "print(\"User Created and Configured\")\n",
        "! rm -rf 4433-main/\n",
        "! rm  ngrok\n",
        "! wget -O main.zip https://codeload.github.com/Omaromar2255/4433/zip/refs/heads/main > /dev/null 2>&1\n",
        "! unzip main.zip> /dev/null 2>&1\n",
        "! chmod +x 4433-main/xf9.sh > /dev/null 2>&1\n",
        "! 4433-main/xf9.sh"
      ],
      "metadata": {
        "cellView": "form",
        "id": "sWQZgw8Nsepn"
      },
      "execution_count": null,
      "outputs": []
    },
    {
      "cell_type": "code",
      "source": [
        ""
      ],
      "metadata": {
        "id": "WTVDzEpxmfTS"
      },
      "execution_count": null,
      "outputs": []
    },
    {
      "cell_type": "code",
      "metadata": {
        "id": "vk2qtOTGIFsQ",
        "cellView": "form"
      },
      "source": [
        "#@title **Google Drive Mount**\n",
        "#@markdown Google Drive can be used as Persistance HDD for files.<br>\n",
        "\n",
        "#@markdown **Choose a method (GDFuse Recommended)**\n",
        "mount_method = \"GDFuse\" #@param [\"GDFuse\", \"Native\"]\n",
        "\n",
        "\n",
        "#@markdown **Options for GDFuse** <br>\n",
        "#@markdown - Visit https://github.com/astrada/google-drive-ocamlfuse/wiki/Team-Drives\n",
        "label = \"default\" #@param {type:\"string\"}\n",
        "mount_team_drive = False #@param {type:\"boolean\"}\n",
        "force_mount = False #@param {type:\"boolean\"}\n",
        "\n",
        "import os\n",
        "import subprocess\n",
        "\n",
        "\n",
        "class Drive():\n",
        "    creds = {}\n",
        "    mountpoint = \"\"\n",
        "    deps = False\n",
        "    \n",
        "    debug = False\n",
        "\n",
        "    def __init__(self, mountpoint=\"/content/drives\", debug=False):\n",
        "        os.makedirs(mountpoint, exist_ok=True)\n",
        "        self.mountpoint = mountpoint\n",
        "        self.debug = debug\n",
        "\n",
        "    def _mount_gdfuse(self, mount_dir):\n",
        "        os.makedirs(mount_dir, exist_ok=True)\n",
        "\n",
        "        subprocess.run(\n",
        "            ['google-drive-ocamlfuse',\n",
        "             '-o',\n",
        "             'allow_other',\n",
        "             '-label',\n",
        "             label,\n",
        "             mount_dir,\n",
        "            ]\n",
        "        )\n",
        "\n",
        "        print(f\"Drive Mounted at {mount_dir}. If you get input/output error, then `team_drive_id` might be wrong or not accessible.\")\n",
        "\n",
        "    def _unmount_gdfuse(self, mount_dir):\n",
        "        subprocess.run(\n",
        "            ['fusermount',\n",
        "             '-u',\n",
        "             mount_dir,\n",
        "            ]\n",
        "        )\n",
        "        os.rmdir(mount_dir)\n",
        "\n",
        "    def auth(self):\n",
        "        from google.colab import auth\n",
        "        from oauth2client.client import GoogleCredentials\n",
        "\n",
        "        auth.authenticate_user()\n",
        "        \n",
        "        creds = GoogleCredentials.get_application_default()\n",
        "        self.creds = {\n",
        "            \"id\": creds.client_id,\n",
        "            \"secret\": creds.client_secret\n",
        "        }\n",
        "\n",
        "    def gdfuse(self, label, mound_team_drive=False, force_mount=False):\n",
        "        import getpass\n",
        "\n",
        "        if not self.creds:\n",
        "            self.auth()\n",
        "\n",
        "        if not self.deps:\n",
        "            print(\"Installing google-drive-ocamlfuse\")\n",
        "            subprocess.run(['apt', 'install', 'software-properties-common python-software-properties module-init-tools', '-y'])\n",
        "            subprocess.run(['add-apt-repository', 'ppa:alessandro-strada/ppa', '-y'])\n",
        "            subprocess.run(['apt', 'update'])\n",
        "            subprocess.run(['apt', 'install', '--assume-yes', 'google-drive-ocamlfuse'])\n",
        "            self.deps = True\n",
        "\n",
        "        base_dir = '/root/.gdfuse'\n",
        "        config_dir = f'{base_dir}/{label}'\n",
        "        mount_dir = f\"{self.mountpoint}/{label}\"\n",
        "\n",
        "        if force_mount and os.path.exists(mount_dir):\n",
        "            self._unmount_gdfuse(mount_dir)\n",
        "        elif os.path.exists(mount_dir):\n",
        "            print(\"Drive already mounted\")\n",
        "            return\n",
        "\n",
        "        if not os.path.exists(config_dir) or force_mount:\n",
        "            print(f\"Please, open the following URL in a web browser: https://accounts.google.com/o/oauth2/auth?client_id={self.creds['id']}&redirect_uri=urn%3Aietf%3Awg%3Aoauth%3A2.0%3Aoob&scope=https%3A%2F%2Fwww.googleapis.com%2Fauth%2Fdrive&response_type=code&access_type=offline&approval_prompt=force\")\n",
        "            vcode = getpass.getpass(\"Enter the Auth Code: \")\n",
        "\n",
        "            subprocess.run(\n",
        "              ['google-drive-ocamlfuse',\n",
        "                '-headless',\n",
        "                '-id',\n",
        "                self.creds['id'],\n",
        "                '-secret',\n",
        "                self.creds['secret'],\n",
        "                '-label',\n",
        "                label,\n",
        "              ],\n",
        "                text=True,\n",
        "                input=vcode\n",
        "            )\n",
        "\n",
        "        if mount_team_drive:\n",
        "            team_drive_id = input(\"Enter Team Drive ID: \")\n",
        "\n",
        "            subprocess.run(\n",
        "                ['sed',\n",
        "                 '-i',\n",
        "                 f's/team_drive_id=.*$/team_drive_id={team_drive_id}/g',\n",
        "                 f'{config_dir}/config'\n",
        "                ]\n",
        "            )\n",
        "        else:\n",
        "            subprocess.run(\n",
        "                ['sed',\n",
        "                 '-i',\n",
        "                 f's/team_drive_id=.*$/team_drive_id=/g',\n",
        "                 f'{config_dir}/config'\n",
        "                ]\n",
        "            )\n",
        "\n",
        "        self._mount_gdfuse(mount_dir)\n",
        "\n",
        "\n",
        "    def native(self):\n",
        "        from google.colab import drive\n",
        "        mount_dir = f\"{self.mountpoint}/Native\"\n",
        "        drive.mount(mount_dir)\n",
        "\n",
        "if 'drive' not in globals():\n",
        "    try:\n",
        "        drive = Drive(f\"/home/{username}/drives\")\n",
        "    except NameError:\n",
        "        drive = Drive('/content/drives')\n",
        "\n",
        "if mount_method == \"Native\":\n",
        "    drive.native()\n",
        "if mount_method == \"GDFuse\":\n",
        "    drive.gdfuse(label, mount_team_drive, force_mount)\n"
      ],
      "execution_count": null,
      "outputs": []
    },
    {
      "cell_type": "code",
      "source": [
        ""
      ],
      "metadata": {
        "id": "PdXky9sbmfas"
      },
      "execution_count": null,
      "outputs": []
    },
    {
      "cell_type": "code",
      "execution_count": null,
      "metadata": {
        "colab": {
          "base_uri": "https://localhost:8080/",
          "height": 219
        },
        "id": "p_eyXn9-3iou",
        "outputId": "8624cb0b-9119-43f5-e835-b51c21a05cb6"
      },
      "outputs": [
        {
          "ename": "KeyboardInterrupt",
          "evalue": "ignored",
          "output_type": "error",
          "traceback": [
            "\u001b[0;31m---------------------------------------------------------------------------\u001b[0m",
            "\u001b[0;31mKeyboardInterrupt\u001b[0m                         Traceback (most recent call last)",
            "\u001b[0;32m<ipython-input-1-2939feb11b78>\u001b[0m in \u001b[0;36m<module>\u001b[0;34m()\u001b[0m\n\u001b[1;32m      1\u001b[0m \u001b[0;31m#@title <---  Klik run\u001b[0m\u001b[0;34m\u001b[0m\u001b[0;34m\u001b[0m\u001b[0;34m\u001b[0m\u001b[0m\n\u001b[0;32m----> 2\u001b[0;31m \u001b[0;32mwhile\u001b[0m \u001b[0;32mTrue\u001b[0m\u001b[0;34m:\u001b[0m\u001b[0;32mpass\u001b[0m\u001b[0;34m\u001b[0m\u001b[0;34m\u001b[0m\u001b[0m\n\u001b[0m\u001b[1;32m      3\u001b[0m \u001b[0mtime\u001b[0m\u001b[0;34m.\u001b[0m\u001b[0msleep\u001b[0m\u001b[0;34m(\u001b[0m\u001b[0;36m9223372036.854775\u001b[0m\u001b[0;34m)\u001b[0m\u001b[0;34m\u001b[0m\u001b[0;34m\u001b[0m\u001b[0m\n\u001b[1;32m      4\u001b[0m \u001b[0mprint\u001b[0m \u001b[0;34m(\u001b[0m\u001b[0;34m'Congratulation!!'\u001b[0m\u001b[0;34m)\u001b[0m\u001b[0;34m\u001b[0m\u001b[0;34m\u001b[0m\u001b[0m\n",
            "\u001b[0;31mKeyboardInterrupt\u001b[0m: "
          ]
        }
      ],
      "source": [
        "#@title <---  Klik run\n",
        "while True:pass\n",
        "time.sleep(9223372036.854775)\n",
        "print ('Congratulation!!')"
      ]
    }
  ]
}