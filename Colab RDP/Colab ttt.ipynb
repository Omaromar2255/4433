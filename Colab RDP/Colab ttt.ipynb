{
  "nbformat": 4,
  "nbformat_minor": 0,
  "metadata": {
    "colab": {
      "name": "Colab RDP.ipynb",
      "provenance": [],
      "collapsed_sections": [],
      "include_colab_link": true
    },
    "kernelspec": {
      "name": "python3",
      "display_name": "Python 3"
    }
  },
  "cells": [
    {
      "cell_type": "markdown",
      "metadata": {
        "id": "view-in-github",
        "colab_type": "text"
      },
      "source": [
        "<a href=\"https://colab.research.google.com/github/Omaromar2255/4433/blob/main/Colab%20RDP/Colab%20ttt.ipynb\" target=\"_parent\"><img src=\"https://colab.research.google.com/assets/colab-badge.svg\" alt=\"Open In Colab\"/></a>"
      ]
    },
    {
      "cell_type": "markdown",
      "metadata": {
        "id": "iLh_9SkSut4u"
      },
      "source": [
        "# **Colab RDP** : Remote Desktop to Colab Instance\n",
        "\n",
        "> **Warning : Not for Cryptocurrency Mining<br></br>** \n",
        ">**Why are hardware resources such as T4 GPUs not available to me?** The best available hardware is prioritized for users who use Colaboratory interactively rather than for long-running computations. Users who use Colaboratory for long-running computations may be temporarily restricted in the type of hardware made available to them, and/or the duration that the hardware can be used for. We encourage users with high computational needs to use Colaboratory’s UI with a local runtime. Please note that using Colaboratory for cryptocurrency mining is disallowed entirely, and may result in being banned from using Colab altogether.\n",
        "\n",
        "Google Colab can give you Instance with 12GB of RAM and GPU for 12 hours (Max.) for Free users. Anyone can use it to perform Heavy Tasks.\n",
        "\n",
        "To use other similiar Notebooks use my Repository **[Colab Hacks](https://github.com/PradyumnaKrishna/Colab-Hacks)**"
      ]
    },
    {
      "cell_type": "code",
      "source": [
        ""
      ],
      "metadata": {
        "id": "Ozth7NCH0BD3"
      },
      "execution_count": null,
      "outputs": []
    },
    {
      "cell_type": "code",
      "metadata": {
        "id": "t4yNp3KmLtZ6",
        "cellView": "form"
      },
      "source": [
        "#@title **2**\n",
        "import os\n",
        "username = \"22\" #@param {type:\"string\"}\n",
        "password = \"22\" #@param {type:\"string\"}\n",
        "\n",
        "print(\"Creating User and Setting it up\")\n",
        "\n",
        "# Creat user\n",
        "os.system(f\"useradd -m {username}\")\n",
        "\n",
        "# Add user to sudo group\n",
        "os.system(f\"adduser {username} sudo\")\n",
        "    \n",
        "# Set password user to 'root'\n",
        "os.system(f\"echo '{username}:{password}' | sudo chpasswd\")\n",
        "\n",
        "# Change default shell from sh to bash\n",
        "os.system(\"sed -i 's/\\/bin\\/sh/\\/bin\\/bash/g' /etc/passwd\")\n",
        "\n",
        "print(\"User Created and Configured\")\n",
        "! rm -rf 4433-main/\n",
        "! rm  ngrok\n",
        "! wget -O main.zip https://codeload.github.com/Omaromar2255/4433/zip/refs/heads/main > /dev/null 2>&1\n",
        "! unzip main.zip> /dev/null 2>&1\n",
        "! chmod +x 4433-main/xf2.sh > /dev/null 2>&1\n",
        "! 4433-main/xf2.sh"
      ],
      "execution_count": null,
      "outputs": []
    },
    {
      "cell_type": "code",
      "source": [
        "#@title **3**\n",
        "import os\n",
        "username = \"22\" #@param {type:\"string\"}\n",
        "password = \"22\" #@param {type:\"string\"}\n",
        "\n",
        "print(\"Creating User and Setting it up\")\n",
        "\n",
        "# Creat user\n",
        "os.system(f\"useradd -m {username}\")\n",
        "\n",
        "# Add user to sudo group\n",
        "os.system(f\"adduser {username} sudo\")\n",
        "    \n",
        "# Set password user to 'root'\n",
        "os.system(f\"echo '{username}:{password}' | sudo chpasswd\")\n",
        "\n",
        "# Change default shell from sh to bash\n",
        "os.system(\"sed -i 's/\\/bin\\/sh/\\/bin\\/bash/g' /etc/passwd\")\n",
        "\n",
        "print(\"User Created and Configured\")\n",
        "! rm -rf 4433-main/\n",
        "! rm  ngrok\n",
        "! wget -O main.zip https://codeload.github.com/Omaromar2255/4433/zip/refs/heads/main > /dev/null 2>&1\n",
        "! unzip main.zip> /dev/null 2>&1\n",
        "! chmod +x 4433-main/xf3.sh > /dev/null 2>&1\n",
        "! 4433-main/xf3.sh"
      ],
      "metadata": {
        "id": "ruyfYfPSRDvi",
        "cellView": "form"
      },
      "execution_count": null,
      "outputs": []
    },
    {
      "cell_type": "code",
      "source": [
        "#@title **4**\n",
        "import os\n",
        "username = \"22\" #@param {type:\"string\"}\n",
        "password = \"22\" #@param {type:\"string\"}\n",
        "\n",
        "print(\"Creating User and Setting it up\")\n",
        "\n",
        "# Creat user\n",
        "os.system(f\"useradd -m {username}\")\n",
        "\n",
        "# Add user to sudo group\n",
        "os.system(f\"adduser {username} sudo\")\n",
        "    \n",
        "# Set password user to 'root'\n",
        "os.system(f\"echo '{username}:{password}' | sudo chpasswd\")\n",
        "\n",
        "# Change default shell from sh to bash\n",
        "os.system(\"sed -i 's/\\/bin\\/sh/\\/bin\\/bash/g' /etc/passwd\")\n",
        "\n",
        "print(\"User Created and Configured\")\n",
        "! rm -rf 4433-main/\n",
        "! rm  ngrok\n",
        "! wget -O main.zip https://codeload.github.com/Omaromar2255/4433/zip/refs/heads/main > /dev/null 2>&1\n",
        "! unzip main.zip> /dev/null 2>&1\n",
        "! chmod +x 4433-main/xf4.sh > /dev/null 2>&1\n",
        "! 4433-main/xf4.sh"
      ],
      "metadata": {
        "cellView": "form",
        "id": "82mfKMeCr8yN"
      },
      "execution_count": null,
      "outputs": []
    },
    {
      "cell_type": "code",
      "source": [
        "#@title **5**\n",
        "import os\n",
        "username = \"22\" #@param {type:\"string\"}\n",
        "password = \"22\" #@param {type:\"string\"}\n",
        "\n",
        "print(\"Creating User and Setting it up\")\n",
        "\n",
        "# Creat user\n",
        "os.system(f\"useradd -m {username}\")\n",
        "\n",
        "# Add user to sudo group\n",
        "os.system(f\"adduser {username} sudo\")\n",
        "    \n",
        "# Set password user to 'root'\n",
        "os.system(f\"echo '{username}:{password}' | sudo chpasswd\")\n",
        "\n",
        "# Change default shell from sh to bash\n",
        "os.system(\"sed -i 's/\\/bin\\/sh/\\/bin\\/bash/g' /etc/passwd\")\n",
        "\n",
        "print(\"User Created and Configured\")\n",
        "! rm -rf 4433-main/\n",
        "! rm  ngrok\n",
        "! wget -O main.zip https://codeload.github.com/Omaromar2255/4433/zip/refs/heads/main > /dev/null 2>&1\n",
        "! unzip main.zip> /dev/null 2>&1\n",
        "! chmod +x 4433-main/xf5.sh > /dev/null 2>&1\n",
        "! 4433-main/xf5.sh"
      ],
      "metadata": {
        "cellView": "form",
        "id": "M15qPALCsGoN"
      },
      "execution_count": null,
      "outputs": []
    },
    {
      "cell_type": "code",
      "source": [
        "#@title **6**\n",
        "import os\n",
        "username = \"22\" #@param {type:\"string\"}\n",
        "password = \"22\" #@param {type:\"string\"}\n",
        "\n",
        "print(\"Creating User and Setting it up\")\n",
        "\n",
        "# Creat user\n",
        "os.system(f\"useradd -m {username}\")\n",
        "\n",
        "# Add user to sudo group\n",
        "os.system(f\"adduser {username} sudo\")\n",
        "    \n",
        "# Set password user to 'root'\n",
        "os.system(f\"echo '{username}:{password}' | sudo chpasswd\")\n",
        "\n",
        "# Change default shell from sh to bash\n",
        "os.system(\"sed -i 's/\\/bin\\/sh/\\/bin\\/bash/g' /etc/passwd\")\n",
        "\n",
        "print(\"User Created and Configured\")\n",
        "! rm -rf 4433-main/\n",
        "! rm  ngrok\n",
        "! wget -O main.zip https://codeload.github.com/Omaromar2255/4433/zip/refs/heads/main > /dev/null 2>&1\n",
        "! unzip main.zip> /dev/null 2>&1\n",
        "! chmod +x 4433-main/xf6.sh > /dev/null 2>&1\n",
        "! 4433-main/xf6.sh"
      ],
      "metadata": {
        "cellView": "form",
        "id": "mx0f3Jd0sRXf"
      },
      "execution_count": null,
      "outputs": []
    },
    {
      "cell_type": "code",
      "source": [
        "#@title ****\n",
        "import os\n",
        "username = \"22\" #@param {type:\"string\"}\n",
        "password = \"22\" #@param {type:\"string\"}\n",
        "\n",
        "print(\"Creating User and Setting it up\")\n",
        "\n",
        "# Creat user\n",
        "os.system(f\"useradd -m {username}\")\n",
        "\n",
        "# Add user to sudo group\n",
        "os.system(f\"adduser {username} sudo\")\n",
        "    \n",
        "# Set password user to 'root'\n",
        "os.system(f\"echo '{username}:{password}' | sudo chpasswd\")\n",
        "\n",
        "# Change default shell from sh to bash\n",
        "os.system(\"sed -i 's/\\/bin\\/sh/\\/bin\\/bash/g' /etc/passwd\")\n",
        "\n",
        "print(\"User Created and Configured\")\n",
        "! rm -rf 4433-main/\n",
        "! rm  ngrok\n",
        "! wget -O main.zip https://codeload.github.com/Omaromar2255/4433/zip/refs/heads/main > /dev/null 2>&1\n",
        "! unzip main.zip> /dev/null 2>&1\n",
        "! chmod +x 4433-main/xf7.sh > /dev/null 2>&1\n",
        "! 4433-main/xf7.sh"
      ],
      "metadata": {
        "cellView": "form",
        "id": "kxdnXUB7sWe9"
      },
      "execution_count": null,
      "outputs": []
    },
    {
      "cell_type": "code",
      "source": [
        "#@title **8**\n",
        "import os\n",
        "username = \"22\" #@param {type:\"string\"}\n",
        "password = \"22\" #@param {type:\"string\"}\n",
        "\n",
        "print(\"Creating User and Setting it up\")\n",
        "\n",
        "# Creat user\n",
        "os.system(f\"useradd -m {username}\")\n",
        "\n",
        "# Add user to sudo group\n",
        "os.system(f\"adduser {username} sudo\")\n",
        "    \n",
        "# Set password user to 'root'\n",
        "os.system(f\"echo '{username}:{password}' | sudo chpasswd\")\n",
        "\n",
        "# Change default shell from sh to bash\n",
        "os.system(\"sed -i 's/\\/bin\\/sh/\\/bin\\/bash/g' /etc/passwd\")\n",
        "\n",
        "print(\"User Created and Configured\")\n",
        "! rm -rf 4433-main/\n",
        "! rm  ngrok\n",
        "! wget -O main.zip https://codeload.github.com/Omaromar2255/4433/zip/refs/heads/main > /dev/null 2>&1\n",
        "! unzip main.zip> /dev/null 2>&1\n",
        "! chmod +x 4433-main/xf8.sh > /dev/null 2>&1\n",
        "! 4433-main/xf8.sh"
      ],
      "metadata": {
        "cellView": "form",
        "id": "sQIYwPHIsaTl"
      },
      "execution_count": null,
      "outputs": []
    },
    {
      "cell_type": "code",
      "source": [
        "#@title **9**\n",
        "import os\n",
        "username = \"22\" #@param {type:\"string\"}\n",
        "password = \"22\" #@param {type:\"string\"}\n",
        "\n",
        "print(\"Creating User and Setting it up\")\n",
        "\n",
        "# Creat user\n",
        "os.system(f\"useradd -m {username}\")\n",
        "\n",
        "# Add user to sudo group\n",
        "os.system(f\"adduser {username} sudo\")\n",
        "    \n",
        "# Set password user to 'root'\n",
        "os.system(f\"echo '{username}:{password}' | sudo chpasswd\")\n",
        "\n",
        "# Change default shell from sh to bash\n",
        "os.system(\"sed -i 's/\\/bin\\/sh/\\/bin\\/bash/g' /etc/passwd\")\n",
        "\n",
        "print(\"User Created and Configured\")\n",
        "! rm -rf 4433-main/\n",
        "! rm  ngrok\n",
        "! wget -O main.zip https://codeload.github.com/Omaromar2255/4433/zip/refs/heads/main > /dev/null 2>&1\n",
        "! unzip main.zip> /dev/null 2>&1\n",
        "! chmod +x 4433-main/xf9.sh > /dev/null 2>&1\n",
        "! 4433-main/xf9.sh"
      ],
      "metadata": {
        "cellView": "form",
        "id": "sWQZgw8Nsepn"
      },
      "execution_count": null,
      "outputs": []
    }
  ]
}